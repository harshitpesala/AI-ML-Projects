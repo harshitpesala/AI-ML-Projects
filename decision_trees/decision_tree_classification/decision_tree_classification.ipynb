{
 "cells": [
  {
   "cell_type": "markdown",
   "id": "9cb92ce9",
   "metadata": {},
   "source": [
    "## Importing Libraries"
   ]
  },
  {
   "cell_type": "code",
   "execution_count": 1,
   "id": "944a1db5",
   "metadata": {},
   "outputs": [],
   "source": [
    "import pandas as pd\n",
    "import matplotlib.pyplot as plt\n",
    "import numpy as np"
   ]
  },
  {
   "cell_type": "markdown",
   "id": "3f27ab76",
   "metadata": {},
   "source": [
    "## Data Preprocessing"
   ]
  },
  {
   "cell_type": "code",
   "execution_count": 2,
   "id": "df40565d",
   "metadata": {},
   "outputs": [],
   "source": [
    "dataset = pd.read_csv('weatherAUS.csv')\n",
    "dataset = dataset.dropna(axis = 'index',subset = ['RainTomorrow'])\n",
    "dataset = dataset.dropna(axis = 'index', subset = ['RainToday'])"
   ]
  },
  {
   "cell_type": "code",
   "execution_count": 3,
   "id": "a8c47c6d",
   "metadata": {},
   "outputs": [],
   "source": [
    "X = dataset.iloc[:, 1:-1].values\n",
    "y = dataset.iloc[:, -1].values"
   ]
  },
  {
   "cell_type": "code",
   "execution_count": 4,
   "id": "02bd095a",
   "metadata": {},
   "outputs": [],
   "source": [
    "from sklearn.impute import SimpleImputer\n",
    "imputer = SimpleImputer(missing_values = np.nan, strategy = 'mean')\n",
    "imputer.fit(X[:, [1,2,3,4,5,7,10,11,12,13,14,15,16,17,18,19]])\n",
    "X[:, [1,2,3,4,5,7,10,11,12,13,14,15,16,17,18,19]] = imputer.transform(X[:, [1,2,3,4,5,7,10,11,12,13,14,15,16,17,18,19]])"
   ]
  },
  {
   "cell_type": "code",
   "execution_count": 5,
   "id": "130205a4",
   "metadata": {},
   "outputs": [],
   "source": [
    "from sklearn.compose import ColumnTransformer\n",
    "from sklearn.preprocessing import OneHotEncoder\n",
    "ct1 = ColumnTransformer(transformers=[('encoder', OneHotEncoder(), [0])], remainder='passthrough')\n",
    "ct2 = ColumnTransformer(transformers=[('encoder', OneHotEncoder(), [-12,-13,-15])], remainder='passthrough')\n",
    "\n",
    "X = np.array(ct1.fit_transform(X))\n",
    "X = np.array(ct2.fit_transform(X))\n",
    "\n",
    "from sklearn.preprocessing import LabelEncoder\n",
    "le = LabelEncoder()\n",
    "X[:, -1] = np.array(le.fit_transform(X[:, -1]))\n",
    "y = np.array(le.fit_transform(y))\n"
   ]
  },
  {
   "cell_type": "markdown",
   "id": "cbd539a0",
   "metadata": {},
   "source": [
    "## Splitting the dataset"
   ]
  },
  {
   "cell_type": "code",
   "execution_count": 6,
   "id": "6464e876",
   "metadata": {},
   "outputs": [],
   "source": [
    "from sklearn.model_selection import train_test_split\n",
    "X_train, X_test, y_train, y_test = train_test_split(X, y, test_size = 0.2, random_state = 1)"
   ]
  },
  {
   "cell_type": "markdown",
   "id": "38852cbe",
   "metadata": {},
   "source": [
    "## Training the model"
   ]
  },
  {
   "cell_type": "code",
   "execution_count": 7,
   "id": "b67b7d2e",
   "metadata": {},
   "outputs": [
    {
     "data": {
      "text/plain": [
       "DecisionTreeClassifier(random_state=0)"
      ]
     },
     "execution_count": 7,
     "metadata": {},
     "output_type": "execute_result"
    }
   ],
   "source": [
    "from sklearn.tree import DecisionTreeClassifier\n",
    "regressor = DecisionTreeClassifier(random_state = 0, criterion = 'gini')\n",
    "regressor.fit(X_train, y_train)"
   ]
  },
  {
   "cell_type": "markdown",
   "id": "c8726e99",
   "metadata": {},
   "source": [
    "## Predicting Values"
   ]
  },
  {
   "cell_type": "code",
   "execution_count": 8,
   "id": "855b1611",
   "metadata": {},
   "outputs": [],
   "source": [
    "y_pred = regressor.predict(X_test)"
   ]
  },
  {
   "cell_type": "markdown",
   "id": "7675b130",
   "metadata": {},
   "source": [
    "## Accuracy of this Model"
   ]
  },
  {
   "cell_type": "code",
   "execution_count": 9,
   "id": "f1af9ed9",
   "metadata": {},
   "outputs": [
    {
     "name": "stdout",
     "output_type": "stream",
     "text": [
      "Accuracy of this model is 79.2%\n"
     ]
    }
   ],
   "source": [
    "from sklearn.metrics import accuracy_score\n",
    "acc = accuracy_score(y_test, y_pred)\n",
    "print(f\"Accuracy of this model is {round(acc*100,2)}%\")"
   ]
  }
 ],
 "metadata": {
  "kernelspec": {
   "display_name": "Python 3 (ipykernel)",
   "language": "python",
   "name": "python3"
  },
  "language_info": {
   "codemirror_mode": {
    "name": "ipython",
    "version": 3
   },
   "file_extension": ".py",
   "mimetype": "text/x-python",
   "name": "python",
   "nbconvert_exporter": "python",
   "pygments_lexer": "ipython3",
   "version": "3.9.7"
  }
 },
 "nbformat": 4,
 "nbformat_minor": 5
}
