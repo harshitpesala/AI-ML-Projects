{
 "cells": [
  {
   "cell_type": "code",
   "execution_count": 1,
   "id": "a3086314",
   "metadata": {},
   "outputs": [],
   "source": [
    "import numpy as np\n",
    "import pandas as pd\n",
    "import matplotlib.pyplot as plt"
   ]
  },
  {
   "cell_type": "code",
   "execution_count": 2,
   "id": "0ce5cead",
   "metadata": {},
   "outputs": [],
   "source": [
    "dataset = pd.read_csv(\"linear_regression_dataset.csv\")"
   ]
  },
  {
   "cell_type": "code",
   "execution_count": 3,
   "id": "3fc2d652",
   "metadata": {},
   "outputs": [],
   "source": [
    "dataset = pd.concat([pd.Series(1, index=dataset.index, name = 'biasterm'),dataset], axis =1)"
   ]
  },
  {
   "cell_type": "code",
   "execution_count": 4,
   "id": "ba10d52f",
   "metadata": {},
   "outputs": [],
   "source": [
    "X = dataset.drop([\"TOTCHG\"], axis=1)"
   ]
  },
  {
   "cell_type": "code",
   "execution_count": 5,
   "id": "1c38af58",
   "metadata": {},
   "outputs": [],
   "source": [
    "Y = dataset.iloc[:, 5]"
   ]
  },
  {
   "cell_type": "code",
   "execution_count": 6,
   "id": "bd57869b",
   "metadata": {},
   "outputs": [
    {
     "name": "stdout",
     "output_type": "stream",
     "text": [
      "     biasterm  AGE  FEMALE  LOS  RACE  APRDRG\n",
      "0           1   17       1    2   1.0     560\n",
      "1           1   17       0    2   1.0     753\n",
      "2           1   17       1    7   1.0     930\n",
      "3           1   17       1    1   1.0     758\n",
      "4           1   17       1    1   1.0     754\n",
      "..        ...  ...     ...  ...   ...     ...\n",
      "495         1    0       1    6   1.0     636\n",
      "496         1    0       1    2   1.0     640\n",
      "497         1    0       1    2   1.0     640\n",
      "498         1    0       1    2   1.0     640\n",
      "499         1    0       0    4   1.0     640\n",
      "\n",
      "[500 rows x 6 columns]\n",
      "0       2660\n",
      "1       1689\n",
      "2      20060\n",
      "3        736\n",
      "4       1194\n",
      "       ...  \n",
      "495     5881\n",
      "496     1171\n",
      "497     1171\n",
      "498     1086\n",
      "499     4931\n",
      "Name: TOTCHG, Length: 500, dtype: int64\n"
     ]
    }
   ],
   "source": [
    "print(X)\n",
    "print(Y)"
   ]
  },
  {
   "cell_type": "code",
   "execution_count": 7,
   "id": "e5597418",
   "metadata": {},
   "outputs": [
    {
     "name": "stdout",
     "output_type": "stream",
     "text": [
      "     biasterm  AGE  FEMALE       LOS      RACE    APRDRG\n",
      "0         1.0  1.0     1.0  0.048780  0.166667  0.588235\n",
      "1         1.0  1.0     0.0  0.048780  0.166667  0.790966\n",
      "2         1.0  1.0     1.0  0.170732  0.166667  0.976891\n",
      "3         1.0  1.0     1.0  0.024390  0.166667  0.796218\n",
      "4         1.0  1.0     1.0  0.024390  0.166667  0.792017\n",
      "..        ...  ...     ...       ...       ...       ...\n",
      "495       1.0  0.0     1.0  0.146341  0.166667  0.668067\n",
      "496       1.0  0.0     1.0  0.048780  0.166667  0.672269\n",
      "497       1.0  0.0     1.0  0.048780  0.166667  0.672269\n",
      "498       1.0  0.0     1.0  0.048780  0.166667  0.672269\n",
      "499       1.0  0.0     0.0  0.097561  0.166667  0.672269\n",
      "\n",
      "[500 rows x 6 columns]\n"
     ]
    }
   ],
   "source": [
    "#print(len(X.columns))\n",
    "Z= np.max(X)\n",
    "for i in range(1, len(X.columns)+1):\n",
    "    w = X.iloc[:, i-1]\n",
    "    #print(w)\n",
    "    w = w/Z[i-1]\n",
    "    X.iloc[:, i-1] = w\n",
    "print(X)"
   ]
  },
  {
   "cell_type": "code",
   "execution_count": 8,
   "id": "3fd743c6",
   "metadata": {},
   "outputs": [],
   "source": [
    "theta = np.array([0.001]*len(X.columns))\n",
    "#print(theta)"
   ]
  },
  {
   "cell_type": "code",
   "execution_count": 9,
   "id": "25925138",
   "metadata": {},
   "outputs": [
    {
     "name": "stdout",
     "output_type": "stream",
     "text": [
      "500\n"
     ]
    }
   ],
   "source": [
    "m = len(dataset)\n",
    "print(m)"
   ]
  },
  {
   "cell_type": "code",
   "execution_count": 10,
   "id": "7dcca1c3",
   "metadata": {},
   "outputs": [],
   "source": [
    "#hypothesis function\n",
    "def hypo(theta, X):\n",
    "    return theta*X"
   ]
  },
  {
   "cell_type": "code",
   "execution_count": 11,
   "id": "c4436ee4",
   "metadata": {},
   "outputs": [],
   "source": [
    "#cost function\n",
    "def costFunction(X,Y, theta):\n",
    "    h = hypo(theta, X)\n",
    "    h = np.sum(h,axis=1)\n",
    "    return np.sum((h-Y)**2)/(2*len(Y))"
   ]
  },
  {
   "cell_type": "code",
   "execution_count": 12,
   "id": "a7a61596",
   "metadata": {},
   "outputs": [],
   "source": [
    "\"\"\"gradient descent function takes 5 parameters, the x,y of data , \n",
    "the theta coeffecient , learning rate and iterations\"\"\"\n",
    "\n",
    "def gradientDescent(X, Y, theta, alpha, iters):\n",
    "    J= []\n",
    "    count = 0\n",
    "    while count<iters:\n",
    "        y1 = hypo(theta,X)\n",
    "        y1 = np.sum(y1, axis=1)\n",
    "        for c in range(0, len(X.columns)):\n",
    "            theta[c] -= alpha*(np.sum((y1-Y)*X.iloc[:, c]/len(X)))\n",
    "        j = costFunction(X,Y, theta)\n",
    "        J.append(j)\n",
    "        count +=1\n",
    "    return J,theta\n",
    "        "
   ]
  },
  {
   "cell_type": "code",
   "execution_count": 13,
   "id": "dae3a229",
   "metadata": {},
   "outputs": [],
   "source": [
    "J,theta1 = gradientDescent(X,Y,theta,1, 1000)\n",
    "yhat = hypo(theta1, X)\n",
    "yhat = np.sum(yhat, axis=1)"
   ]
  },
  {
   "cell_type": "code",
   "execution_count": 14,
   "id": "3909f5aa",
   "metadata": {},
   "outputs": [
    {
     "name": "stdout",
     "output_type": "stream",
     "text": [
      "0       2660\n",
      "1       1689\n",
      "2      20060\n",
      "3        736\n",
      "4       1194\n",
      "       ...  \n",
      "495     5881\n",
      "496     1171\n",
      "497     1171\n",
      "498     1086\n",
      "499     4931\n",
      "Name: TOTCHG, Length: 500, dtype: int64\n",
      "0      4029.013460\n",
      "1      2916.452979\n",
      "2      4857.511217\n",
      "3      1744.091936\n",
      "4      1775.256965\n",
      "          ...     \n",
      "495    4115.900924\n",
      "496    1115.725543\n",
      "497    1115.725543\n",
      "498    1115.725543\n",
      "499    2991.382888\n",
      "Length: 500, dtype: float64\n"
     ]
    },
    {
     "data": {
      "image/png": "[encoded data removed]",
      "text/plain": [
       "<Figure size 432x288 with 1 Axes>"
      ]
     },
     "metadata": {
      "needs_background": "light"
     },
     "output_type": "display_data"
    }
   ],
   "source": [
    "plt.figure()\n",
    "print(Y)\n",
    "print(yhat)\n",
    "plt.scatter(x=list(range(0, 500)),y= Y, color='blue')         \n",
    "plt.scatter(x=list(range(0, 500)), y=yhat, color='black')\n",
    "plt.show()"
   ]
  },
  {
   "cell_type": "code",
   "execution_count": 16,
   "id": "f230704d",
   "metadata": {},
   "outputs": [
    {
     "data": {
      "image/png": "[encoded data removed]",
      "text/plain": [
       "<Figure size 432x288 with 1 Axes>"
      ]
     },
     "metadata": {
      "needs_background": "light"
     },
     "output_type": "display_data"
    }
   ],
   "source": [
    "plt.figure()\n",
    "plt.scatter(x=list(range(0, 1000)), y=J)\n",
    "plt.show()"
   ]
  }
 ],
 "metadata": {
  "kernelspec": {
   "display_name": "Python 3 (ipykernel)",
   "language": "python",
   "name": "python3"
  },
  "language_info": {
   "codemirror_mode": {
    "name": "ipython",
    "version": 3
   },
   "file_extension": ".py",
   "mimetype": "text/x-python",
   "name": "python",
   "nbconvert_exporter": "python",
   "pygments_lexer": "ipython3",
   "version": "3.10.2"
  }
 },
 "nbformat": 4,
 "nbformat_minor": 5
}
